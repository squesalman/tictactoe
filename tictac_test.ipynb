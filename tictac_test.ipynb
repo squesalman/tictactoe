{
 "metadata": {
  "language_info": {
   "codemirror_mode": {
    "name": "ipython",
    "version": 3
   },
   "file_extension": ".py",
   "mimetype": "text/x-python",
   "name": "python",
   "nbconvert_exporter": "python",
   "pygments_lexer": "ipython3",
   "version": "3.9.0-final"
  },
  "orig_nbformat": 2,
  "kernelspec": {
   "name": "python3",
   "display_name": "Python 3.9.0 64-bit",
   "metadata": {
    "interpreter": {
     "hash": "a80acf2484a3d578bbef50f3a81872dcdcda6da13be3258a09e9e6e88f7ea9cd"
    }
   }
  }
 },
 "nbformat": 4,
 "nbformat_minor": 2,
 "cells": [
  {
   "cell_type": "code",
   "execution_count": 1,
   "metadata": {},
   "outputs": [],
   "source": [
    "from IPython.display import clear_output\n",
    "clear_output()"
   ]
  },
  {
   "cell_type": "code",
   "execution_count": 28,
   "metadata": {},
   "outputs": [],
   "source": [
    "def player_marker():\n",
    "    choice = 'ss'\n",
    "    while choice not in ['X','O']:\n",
    "        choice = input(\"Please enter your marker X or O : \")\n",
    "        choice = choice.upper()\n",
    "\n",
    "        if choice not in ['X','O']:\n",
    "            clear_output()\n",
    "            print(\"Please enter valid marker X or O\")\n",
    "    return choice"
   ]
  },
  {
   "cell_type": "code",
   "execution_count": 29,
   "metadata": {},
   "outputs": [
    {
     "output_type": "stream",
     "name": "stdout",
     "text": [
      "Please enter valid marker X or O\n"
     ]
    }
   ],
   "source": [
    "player1 = player_marker()"
   ]
  },
  {
   "cell_type": "code",
   "execution_count": 31,
   "metadata": {},
   "outputs": [],
   "source": [
    "def display_board(boardlist):\n",
    "  print(f\"{board[0]}|{board[1]}|{board[2]}\")\n",
    "  print(\"-----\")\n",
    "  print(f\"{board[3]}|{board[4]}|{board[5]}\")\n",
    "  print(\"-----\")\n",
    "  print(f\"{board[6]}|{board[7]}|{board[8]}\")"
   ]
  },
  {
   "cell_type": "code",
   "execution_count": 34,
   "metadata": {},
   "outputs": [],
   "source": [
    "board = ['x','o','x','x','x','x','x','o','o']"
   ]
  },
  {
   "cell_type": "code",
   "execution_count": 35,
   "metadata": {},
   "outputs": [
    {
     "output_type": "stream",
     "name": "stdout",
     "text": [
      "x|o|x\n-----\nx|x|x\n-----\nx|o|o\n"
     ]
    }
   ],
   "source": [
    "display_board(board)"
   ]
  },
  {
   "cell_type": "code",
   "execution_count": null,
   "metadata": {},
   "outputs": [],
   "source": []
  }
 ]
}