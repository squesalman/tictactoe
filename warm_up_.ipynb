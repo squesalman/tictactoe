{
 "metadata": {
  "language_info": {
   "codemirror_mode": {
    "name": "ipython",
    "version": 3
   },
   "file_extension": ".py",
   "mimetype": "text/x-python",
   "name": "python",
   "nbconvert_exporter": "python",
   "pygments_lexer": "ipython3",
   "version": "3.9.0-final"
  },
  "orig_nbformat": 2,
  "kernelspec": {
   "name": "python3",
   "display_name": "Python 3.9.0 64-bit",
   "metadata": {
    "interpreter": {
     "hash": "a80acf2484a3d578bbef50f3a81872dcdcda6da13be3258a09e9e6e88f7ea9cd"
    }
   }
  }
 },
 "nbformat": 4,
 "nbformat_minor": 2,
 "cells": [
  {
   "cell_type": "code",
   "execution_count": null,
   "metadata": {},
   "outputs": [],
   "source": [
    "# display list\n",
    "def display_list(mylist):\n",
    "    print(mylist)"
   ]
  },
  {
   "cell_type": "code",
   "execution_count": null,
   "metadata": {},
   "outputs": [],
   "source": [
    "list_of_things = ['1',2,3]"
   ]
  },
  {
   "cell_type": "code",
   "execution_count": null,
   "metadata": {},
   "outputs": [],
   "source": [
    "display_list(list_of_things)"
   ]
  },
  {
   "cell_type": "code",
   "execution_count": null,
   "metadata": {},
   "outputs": [],
   "source": [
    "type(list_of_things[1])"
   ]
  },
  {
   "cell_type": "code",
   "execution_count": null,
   "metadata": {},
   "outputs": [],
   "source": [
    "def pilihan_pelanggan():\n",
    "\n",
    "    choice = input('enter number : ')\n",
    "\n",
    "    return int(choice)"
   ]
  },
  {
   "cell_type": "code",
   "execution_count": null,
   "metadata": {},
   "outputs": [],
   "source": [
    "pilihan_pelanggan()"
   ]
  },
  {
   "cell_type": "code",
   "execution_count": null,
   "metadata": {},
   "outputs": [],
   "source": [
    "some_input='s'"
   ]
  },
  {
   "cell_type": "code",
   "execution_count": null,
   "metadata": {},
   "outputs": [],
   "source": [
    "some_input.isdigit()"
   ]
  },
  {
   "cell_type": "code",
   "execution_count": 6,
   "metadata": {},
   "outputs": [],
   "source": [
    "from IPython.display import clear_output\n",
    "clear_output()"
   ]
  },
  {
   "cell_type": "code",
   "execution_count": 7,
   "metadata": {},
   "outputs": [],
   "source": [
    "def check_int():\n",
    "    \n",
    "    choice = 'wrong'\n",
    "\n",
    "    while choice.isdigit() == False:\n",
    "        choice = input('enter a number : ')\n",
    "        try:\n",
    "            \n",
    "            val = int(choice)\n",
    "        except ValueError:\n",
    "            clear_output()\n",
    "            print('thats not a digit')\n",
    "    return int(choice)\n",
    "        \n",
    "    \n",
    "    "
   ]
  },
  {
   "cell_type": "code",
   "execution_count": 8,
   "metadata": {},
   "outputs": [
    {
     "output_type": "stream",
     "name": "stdout",
     "text": [
      "thats not a digit\n"
     ]
    },
    {
     "output_type": "execute_result",
     "data": {
      "text/plain": [
       "9"
      ]
     },
     "metadata": {},
     "execution_count": 8
    }
   ],
   "source": [
    "check_int()"
   ]
  },
  {
   "cell_type": "code",
   "execution_count": null,
   "metadata": {},
   "outputs": [],
   "source": [
    "def check_int_simpler():\n",
    "    choice ='wrong'\n",
    "\n",
    "    while choice.isdigit() == False:\n",
    "        choice = input('please enter a number : ')\n",
    "\n",
    "    return int(choice)"
   ]
  },
  {
   "cell_type": "code",
   "execution_count": null,
   "metadata": {},
   "outputs": [],
   "source": [
    "check_int_simpler()"
   ]
  },
  {
   "cell_type": "code",
   "execution_count": null,
   "metadata": {},
   "outputs": [],
   "source": [
    "def check_int_v1():\n",
    "    choice = 'wrong'\n",
    "\n",
    "    while choice.isdigit() == False:\n",
    "        choice = input('Please enter a number : ')\n",
    "\n",
    "        if choice.isdigit() == False:\n",
    "            print('You have not entered a number')\n",
    "    return int(choice)"
   ]
  },
  {
   "cell_type": "code",
   "execution_count": null,
   "metadata": {},
   "outputs": [],
   "source": [
    "check_int_v1()"
   ]
  },
  {
   "cell_type": "code",
   "execution_count": 5,
   "metadata": {},
   "outputs": [],
   "source": [
    "from IPython.display import clear_output\n",
    "clear_output()"
   ]
  },
  {
   "source": [
    "**Checking Against Multiple Possible Values**"
   ],
   "cell_type": "markdown",
   "metadata": {}
  },
  {
   "cell_type": "code",
   "execution_count": 11,
   "metadata": {},
   "outputs": [],
   "source": [
    "result = 'test value'\n",
    "test_list = [1,2,3]"
   ]
  },
  {
   "cell_type": "code",
   "execution_count": 12,
   "metadata": {},
   "outputs": [
    {
     "output_type": "execute_result",
     "data": {
      "text/plain": [
       "False"
      ]
     },
     "metadata": {},
     "execution_count": 12
    }
   ],
   "source": [
    "result in test_list"
   ]
  },
  {
   "cell_type": "code",
   "execution_count": 13,
   "metadata": {},
   "outputs": [
    {
     "output_type": "execute_result",
     "data": {
      "text/plain": [
       "True"
      ]
     },
     "metadata": {},
     "execution_count": 13
    }
   ],
   "source": [
    "result not in test_list"
   ]
  },
  {
   "cell_type": "code",
   "execution_count": 37,
   "metadata": {},
   "outputs": [],
   "source": [
    "def user_choice():\n",
    "\n",
    "    choice = 'wrong'\n",
    "    #position = ['1','2','3','4','5','6','7','8','9']\n",
    "    within_range = False\n",
    "\n",
    "    while choice.isdigit()==False or within_range == False:\n",
    "        choice = input('Please choose your position in range 1-9: ')\n",
    "\n",
    "        try:\n",
    "            val = int(choice)\n",
    "        except ValueError:\n",
    "            print(\"Please enter a valid number\")\n",
    "\n",
    "        if choice.isdigit() == True:\n",
    "            if int(choice) in range(1,10):\n",
    "                within_range=True\n",
    "            else:\n",
    "                print('number not within range ')\n",
    "                within_range=False\n",
    "    return int(choice)-1\n",
    "\n"
   ]
  },
  {
   "cell_type": "code",
   "execution_count": 38,
   "metadata": {
    "tags": []
   },
   "outputs": [
    {
     "output_type": "stream",
     "name": "stdout",
     "text": [
      "Please enter a valid number\n"
     ]
    },
    {
     "output_type": "execute_result",
     "data": {
      "text/plain": [
       "3"
      ]
     },
     "metadata": {},
     "execution_count": 38
    }
   ],
   "source": [
    "user_choice()"
   ]
  },
  {
   "cell_type": "code",
   "execution_count": 39,
   "metadata": {},
   "outputs": [],
   "source": [
    "def displaygame_list(gamelist):\n",
    "    print(f'the list {gamelist}')"
   ]
  },
  {
   "cell_type": "code",
   "execution_count": 50,
   "metadata": {},
   "outputs": [
    {
     "output_type": "stream",
     "name": "stdout",
     "text": [
      "the list ['ss', 2, 3]\n"
     ]
    }
   ],
   "source": [
    "from IPython.display import clear_output\n",
    "clear_output()\n",
    "position_list = ['ss',2,3]\n",
    "displaygame_list(position_list)"
   ]
  },
  {
   "cell_type": "code",
   "execution_count": 80,
   "metadata": {},
   "outputs": [],
   "source": [
    "def position_choice():\n",
    "\n",
    "    choice = 'wrong'\n",
    "\n",
    "    while choice not in ['0','1','2']:\n",
    "        choice = input('choose your position to replace between 0,1,2')\n",
    "\n",
    "        try:\n",
    "            val=int(choice)\n",
    "        except ValueError:\n",
    "            clear_output()\n",
    "            print('Please enter a valid number')\n",
    "    return int(choice)\n"
   ]
  },
  {
   "cell_type": "code",
   "execution_count": 81,
   "metadata": {},
   "outputs": [
    {
     "output_type": "stream",
     "name": "stdout",
     "text": [
      "Please enter a valid number\n"
     ]
    },
    {
     "output_type": "execute_result",
     "data": {
      "text/plain": [
       "1"
      ]
     },
     "metadata": {},
     "execution_count": 81
    }
   ],
   "source": [
    "position_choice()"
   ]
  },
  {
   "cell_type": "code",
   "execution_count": 53,
   "metadata": {},
   "outputs": [],
   "source": [
    "def choice_placement(positionlist,position):\n",
    "\n",
    "    user_placement = input(\"Please enter your desire string to be place at your position\")\n",
    "\n",
    "    positionlist[position] = user_placement\n",
    "\n",
    "    return positionlist\n"
   ]
  },
  {
   "cell_type": "code",
   "execution_count": 54,
   "metadata": {},
   "outputs": [],
   "source": [
    "position = position_choice(position_list)\n"
   ]
  },
  {
   "cell_type": "code",
   "execution_count": 56,
   "metadata": {},
   "outputs": [
    {
     "output_type": "execute_result",
     "data": {
      "text/plain": [
       "['ss', 2, 'iiiii']"
      ]
     },
     "metadata": {},
     "execution_count": 56
    }
   ],
   "source": [
    "choice_placement(position_list,position)"
   ]
  },
  {
   "cell_type": "code",
   "execution_count": 65,
   "metadata": {},
   "outputs": [],
   "source": [
    "def gameon_choice():\n",
    "    \n",
    "    choice = 'wrong'\n",
    "\n",
    "    while choice not in ['Y','N']:\n",
    "\n",
    "        choice = input('Would like to play again? Please press Y or N ' )\n",
    "        choice = choice.upper()\n",
    "        if choice not in ['Y','N']:\n",
    "            print('Please enter a valid input Y or N')\n",
    "    \n",
    "    if choice == 'Y':\n",
    "        return True\n",
    "    else:\n",
    "        return False\n",
    "    \n",
    "\n"
   ]
  },
  {
   "cell_type": "code",
   "execution_count": 66,
   "metadata": {},
   "outputs": [
    {
     "output_type": "execute_result",
     "data": {
      "text/plain": [
       "True"
      ]
     },
     "metadata": {},
     "execution_count": 66
    }
   ],
   "source": [
    "gameon_choice()"
   ]
  },
  {
   "cell_type": "code",
   "execution_count": 78,
   "metadata": {},
   "outputs": [],
   "source": [
    "def game_logic():\n",
    "\n",
    "    game_on = True\n",
    "    game_list = ['s',1,'tt']\n",
    "\n",
    "    while game_on:\n",
    "\n",
    "        \n",
    "        clear_output()\n",
    "        displaygame_list(game_list)\n",
    "\n",
    "        position = position_choice(game_list)\n",
    "\n",
    "        game_list =  choice_placement(game_list,position)\n",
    "\n",
    "        clear_output()\n",
    "        displaygame_list(game_list)\n",
    "\n",
    "        game_on = gameon_choice()\n",
    "\n",
    "    \n"
   ]
  },
  {
   "cell_type": "code",
   "execution_count": 79,
   "metadata": {},
   "outputs": [
    {
     "output_type": "stream",
     "name": "stdout",
     "text": [
      "the list ['s', 'fff', 'tt']\n"
     ]
    }
   ],
   "source": [
    "game_logic()"
   ]
  },
  {
   "cell_type": "code",
   "execution_count": null,
   "metadata": {},
   "outputs": [],
   "source": []
  }
 ]
}